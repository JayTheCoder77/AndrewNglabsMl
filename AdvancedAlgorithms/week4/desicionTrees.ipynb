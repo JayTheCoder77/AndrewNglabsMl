{
  "nbformat": 4,
  "nbformat_minor": 0,
  "metadata": {
    "colab": {
      "provenance": []
    },
    "kernelspec": {
      "name": "python3",
      "display_name": "Python 3"
    },
    "language_info": {
      "name": "python"
    }
  },
  "cells": [
    {
      "cell_type": "code",
      "execution_count": 1,
      "metadata": {
        "id": "xYV4Rfhi0mm_"
      },
      "outputs": [],
      "source": [
        "import numpy as np\n",
        "import matplotlib.pyplot as plt\n",
        "import pandas as pd"
      ]
    },
    {
      "cell_type": "markdown",
      "source": [
        "- `X_train`: for each example, contains 3 features:\n",
        "            - Ear Shape (1 if pointy, 0 otherwise)\n",
        "            - Face Shape (1 if round, 0 otherwise)\n",
        "            - Whiskers (1 if present, 0 otherwise)\n",
        "            \n",
        "- `y_train`: whether the animal is a cat\n",
        "            - 1 if the animal is a cat\n",
        "            - 0 otherwise"
      ],
      "metadata": {
        "id": "Vx9vq_u5fzml"
      }
    },
    {
      "cell_type": "code",
      "source": [
        "X_train = np.array([[1, 1, 1],\n",
        "[0, 0, 1],\n",
        " [0, 1, 0],\n",
        " [1, 0, 1],\n",
        " [1, 1, 1],\n",
        " [1, 1, 0],\n",
        " [0, 0, 0],\n",
        " [1, 1, 0],\n",
        " [0, 1, 0],\n",
        " [0, 1, 0]])\n",
        "\n",
        "y_train = np.array([1, 1, 0, 0, 1, 1, 0, 1, 0, 0])"
      ],
      "metadata": {
        "id": "IDMO4hlU02Zd"
      },
      "execution_count": 2,
      "outputs": []
    },
    {
      "cell_type": "code",
      "source": [
        "X_train[0]"
      ],
      "metadata": {
        "colab": {
          "base_uri": "https://localhost:8080/"
        },
        "id": "iGkfpXvbf03p",
        "outputId": "a49393e5-8121-4f04-f9bd-1a55ef630bb0"
      },
      "execution_count": 3,
      "outputs": [
        {
          "output_type": "execute_result",
          "data": {
            "text/plain": [
              "array([1, 1, 1])"
            ]
          },
          "metadata": {},
          "execution_count": 3
        }
      ]
    },
    {
      "cell_type": "code",
      "source": [
        "# compute entropy\n",
        "def entropy(p):\n",
        "  if p == 0 or p == 1:\n",
        "    return 0\n",
        "  else :\n",
        "    return -p * np.log2(p) - (1 - p) * np.log2(1 - p)\n",
        "print(entropy(0.5))"
      ],
      "metadata": {
        "colab": {
          "base_uri": "https://localhost:8080/"
        },
        "id": "lVvYt_8cf3VP",
        "outputId": "6763c6a6-9cd8-45ee-9570-732741a004b8"
      },
      "execution_count": 5,
      "outputs": [
        {
          "output_type": "stream",
          "name": "stdout",
          "text": [
            "1.0\n"
          ]
        }
      ]
    },
    {
      "cell_type": "code",
      "source": [
        "def split_indices (X , index_feature):\n",
        "    \"\"\"Given a dataset and a index feature, return two lists for the two split nodes, the left node has the animals that have\n",
        "    that feature = 1 and the right node those that have the feature = 0\n",
        "    index feature = 0 => ear shape\n",
        "    index feature = 1 => face shape\n",
        "    index feature = 2 => whiskers\n",
        "    \"\"\"\n",
        "    left_indices = []\n",
        "    right_indices = []\n",
        "    for i , x in enumerate(X):\n",
        "      if x[index_feature] == 1:\n",
        "        left_indices.append(i)\n",
        "      else:\n",
        "        right_indices.append(i)\n",
        "    return left_indices , right_indices"
      ],
      "metadata": {
        "id": "5lJWFplPgV1W"
      },
      "execution_count": 9,
      "outputs": []
    },
    {
      "cell_type": "code",
      "source": [
        "split_indices(X_train , 0)"
      ],
      "metadata": {
        "colab": {
          "base_uri": "https://localhost:8080/"
        },
        "id": "kjFZ0QIUg3AN",
        "outputId": "068d2e4f-49cb-4d88-e03a-47da7768383d"
      },
      "execution_count": 10,
      "outputs": [
        {
          "output_type": "execute_result",
          "data": {
            "text/plain": [
              "([0, 3, 4, 5, 7], [1, 2, 6, 8, 9])"
            ]
          },
          "metadata": {},
          "execution_count": 10
        }
      ]
    },
    {
      "cell_type": "code",
      "source": [
        "def weighted_entropy(X , y , left_indices , right_indices):\n",
        "    \"\"\"\n",
        "    This function takes the splitted dataset, the indices we chose to split and returns the weighted entropy.\n",
        "    \"\"\"\n",
        "    w_left = len(left_indices) / len(X)\n",
        "    w_right = len(right_indices) / len(X)\n",
        "    p_left = sum(y[left_indices]) / len(left_indices)\n",
        "    p_right = sum(y[right_indices]) / len(right_indices)\n",
        "    weighted_entropy = w_left * entropy(p_left) + w_right * entropy(p_right)\n",
        "    return weighted_entropy"
      ],
      "metadata": {
        "id": "rrjl4MofhOAa"
      },
      "execution_count": 11,
      "outputs": []
    },
    {
      "cell_type": "code",
      "source": [
        "left_indices, right_indices = split_indices(X_train, 0)\n",
        "weighted_entropy(X_train, y_train, left_indices, right_indices)"
      ],
      "metadata": {
        "colab": {
          "base_uri": "https://localhost:8080/"
        },
        "id": "Ke7Iu1fOh0ie",
        "outputId": "dd8295df-37f9-47d3-e740-cda25a400fa0"
      },
      "execution_count": 12,
      "outputs": [
        {
          "output_type": "execute_result",
          "data": {
            "text/plain": [
              "np.float64(0.7219280948873623)"
            ]
          },
          "metadata": {},
          "execution_count": 12
        }
      ]
    },
    {
      "cell_type": "code",
      "source": [
        "def information_gain(X,y,left_indices,right_indices):\n",
        "  p_node = sum(y) / len(y)\n",
        "  h_node = entropy(p_node)\n",
        "  w_entropy = weighted_entropy(X,y,left_indices,right_indices)\n",
        "  return h_node - w_entropy"
      ],
      "metadata": {
        "id": "VqtJeYCLh_Fw"
      },
      "execution_count": 13,
      "outputs": []
    },
    {
      "cell_type": "code",
      "source": [
        "information_gain(X_train, y_train, left_indices, right_indices)"
      ],
      "metadata": {
        "colab": {
          "base_uri": "https://localhost:8080/"
        },
        "id": "k_W32AZBiWyc",
        "outputId": "8e6efd54-2a8c-4407-9a4d-c59ac6d98a07"
      },
      "execution_count": 14,
      "outputs": [
        {
          "output_type": "execute_result",
          "data": {
            "text/plain": [
              "np.float64(0.2780719051126377)"
            ]
          },
          "metadata": {},
          "execution_count": 14
        }
      ]
    },
    {
      "cell_type": "code",
      "source": [
        "for i , feature_name in enumerate(['Ear Shape', 'Face Shape', 'Whiskers']):\n",
        "    left_indices, right_indices = split_indices(X_train, i)\n",
        "    i_gain = information_gain(X_train, y_train, left_indices, right_indices)\n",
        "    print(f\"Feature: {feature_name}, information gain if we split the root node using this feature: {i_gain:.2f}\")"
      ],
      "metadata": {
        "colab": {
          "base_uri": "https://localhost:8080/"
        },
        "id": "R19Tnv8niaXB",
        "outputId": "50a41525-a264-4044-8119-45694b36ff01"
      },
      "execution_count": 15,
      "outputs": [
        {
          "output_type": "stream",
          "name": "stdout",
          "text": [
            "Feature: Ear Shape, information gain if we split the root node using this feature: 0.28\n",
            "Feature: Face Shape, information gain if we split the root node using this feature: 0.03\n",
            "Feature: Whiskers, information gain if we split the root node using this feature: 0.12\n"
          ]
        }
      ]
    },
    {
      "cell_type": "code",
      "source": [],
      "metadata": {
        "id": "HgokAv_4i08v"
      },
      "execution_count": null,
      "outputs": []
    }
  ]
}