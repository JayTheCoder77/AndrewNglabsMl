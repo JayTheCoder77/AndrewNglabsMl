{
 "cells": [
  {
   "cell_type": "code",
   "execution_count": 1,
   "id": "c80c8732-e70a-4c4c-b147-8c8becebc060",
   "metadata": {},
   "outputs": [],
   "source": [
    "# cost function"
   ]
  },
  {
   "cell_type": "code",
   "execution_count": 2,
   "id": "838f7615-22f3-4b0d-9e6c-5a3f2f2a200e",
   "metadata": {},
   "outputs": [],
   "source": [
    "import numpy as np\n",
    "import matplotlib.pyplot as plt"
   ]
  },
  {
   "cell_type": "code",
   "execution_count": 3,
   "id": "bbe5d8bb-7665-448e-90d8-4c77e7bf0ca9",
   "metadata": {},
   "outputs": [],
   "source": [
    "X_train = np.array([1.0,2.0])\n",
    "y_train = np.array([300.0,500.0])"
   ]
  },
  {
   "cell_type": "code",
   "execution_count": 4,
   "id": "3cdc6247-c869-4f5e-886d-544cd92522c7",
   "metadata": {},
   "outputs": [],
   "source": [
    "def compute_cost(X,y,w,b):\n",
    "    cost_sum = 0\n",
    "    m = X_train.shape[0]\n",
    "    for i in range(m):\n",
    "        f_wb = w * X[i] + b\n",
    "        cost = (f_wb +  - y[i]) ** 2\n",
    "        cost_sum = cost_sum + cost\n",
    "    total_cost = cost_sum * (1/(2 * m))\n",
    "    return total_cost"
   ]
  },
  {
   "cell_type": "code",
   "execution_count": 6,
   "id": "acbd580d-c334-4325-b30c-e8c86d7be444",
   "metadata": {},
   "outputs": [],
   "source": [
    "X_train = np.array([1.0, 1.7, 2.0, 2.5, 3.0, 3.2])\n",
    "y_train = np.array([250, 300, 480,  430,   630, 730,])"
   ]
  },
  {
   "cell_type": "code",
   "execution_count": 7,
   "id": "65bf98e1-184b-41e1-9e78-41f82910f9ab",
   "metadata": {},
   "outputs": [
    {
     "data": {
      "text/plain": [
       "np.float64(4700.0)"
      ]
     },
     "execution_count": 7,
     "metadata": {},
     "output_type": "execute_result"
    }
   ],
   "source": [
    "compute_cost(X_train,y_train,200,100)"
   ]
  }
 ],
 "metadata": {
  "kernelspec": {
   "display_name": "Python 3 (ipykernel)",
   "language": "python",
   "name": "python3"
  },
  "language_info": {
   "codemirror_mode": {
    "name": "ipython",
    "version": 3
   },
   "file_extension": ".py",
   "mimetype": "text/x-python",
   "name": "python",
   "nbconvert_exporter": "python",
   "pygments_lexer": "ipython3",
   "version": "3.13.2"
  }
 },
 "nbformat": 4,
 "nbformat_minor": 5
}
