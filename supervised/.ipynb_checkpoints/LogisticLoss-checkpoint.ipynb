{
 "cells": [
  {
   "cell_type": "markdown",
   "id": "a94de173-e34c-4fe8-8e9f-a2392ec641d7",
   "metadata": {},
   "source": [
    "1. explore the reason the squared error loss is not appropriate for logistic regression\n",
    "2. explore the logistic loss function"
   ]
  },
  {
   "cell_type": "code",
   "execution_count": 1,
   "id": "dbe79acd-b057-434e-b16a-d9ed6b57b914",
   "metadata": {},
   "outputs": [],
   "source": [
    "import numpy as np\n",
    "import matplotlib.pyplot as plt"
   ]
  },
  {
   "cell_type": "code",
   "execution_count": 2,
   "id": "35835722-4693-47a3-9da6-dcdb0ce4b74d",
   "metadata": {},
   "outputs": [],
   "source": [
    "x_train = np.array([0., 1, 2, 3, 4, 5],dtype=np.longdouble)\n",
    "y_train = np.array([0,  0, 0, 1, 1, 1],dtype=np.longdouble)"
   ]
  },
  {
   "cell_type": "code",
   "execution_count": null,
   "id": "033cd9bb-9fc4-48ba-9fe9-4a0d54da2d97",
   "metadata": {},
   "outputs": [],
   "source": []
  }
 ],
 "metadata": {
  "kernelspec": {
   "display_name": "Python 3 (ipykernel)",
   "language": "python",
   "name": "python3"
  },
  "language_info": {
   "codemirror_mode": {
    "name": "ipython",
    "version": 3
   },
   "file_extension": ".py",
   "mimetype": "text/x-python",
   "name": "python",
   "nbconvert_exporter": "python",
   "pygments_lexer": "ipython3",
   "version": "3.13.2"
  }
 },
 "nbformat": 4,
 "nbformat_minor": 5
}
