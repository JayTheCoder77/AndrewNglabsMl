{
 "cells": [
  {
   "cell_type": "code",
   "execution_count": 1,
   "id": "e87ed125-cc3d-4647-bccd-8d0a0e3e66c2",
   "metadata": {},
   "outputs": [],
   "source": [
    "import math , copy\n",
    "import numpy as np\n",
    "import matplotlib.pyplot as plt"
   ]
  },
  {
   "cell_type": "code",
   "execution_count": 2,
   "id": "1b412bb4-7706-49cf-919f-9efeaaf37c8d",
   "metadata": {},
   "outputs": [],
   "source": [
    "def load_house_data():\n",
    "    data = np.loadtxt(r\"D:\\AndrewNgOptionalLabs\\supervised\\houses.txt\", delimiter=',', skiprows=1)\n",
    "    X = data[:,:4]\n",
    "    y = data[:,4]\n",
    "    return X, y"
   ]
  },
  {
   "cell_type": "code",
   "execution_count": 3,
   "id": "f9c54564-cf95-4d59-9b14-9dc87b2c864d",
   "metadata": {},
   "outputs": [],
   "source": [
    "# load dataset\n",
    "X_train , y_train = load_house_data()\n",
    "X_features = ['size(sqft)' , 'bedrooms', 'floors' , 'age']"
   ]
  },
  {
   "cell_type": "code",
   "execution_count": 4,
   "id": "eb8e5692-444d-4eb4-b4ea-a61873a1de69",
   "metadata": {},
   "outputs": [],
   "source": [
    "# compute cost\n",
    "# mean squared error for our predictions\n",
    "def compute_cost(X,y,w,b):\n",
    "    m = X.shape[0]\n",
    "    cost = 0.0\n",
    "    for i in range(m):\n",
    "        f_wb_i = np.dot(w , X[i]) + b\n",
    "        cost = cost + (f_wb_i - y[i]) ** 2\n",
    "    cost /= (2 * m)\n",
    "    return cost"
   ]
  },
  {
   "cell_type": "code",
   "execution_count": 5,
   "id": "75daedb0-98dd-4475-915a-223a456a3ffa",
   "metadata": {},
   "outputs": [],
   "source": [
    "# gradient descent\n",
    "def compute_gradient(X,y,w,b):\n",
    "    m , n = X.shape\n",
    "    dj_dw = np.zeros((n,))\n",
    "    dj_db = 0.\n",
    "    for i in range (m):\n",
    "        # err =  f_wb -> (w * xi + b ) - y\n",
    "        err = (np.dot(X[i],w) + b) - y[i]\n",
    "        for j in range(n):\n",
    "            dj_dw[j] = dj_dw[j] + err * X[i,j]\n",
    "        dj_db += err\n",
    "    dj_dw /= m\n",
    "    dj_db /= m\n",
    "    return dj_dw , dj_db"
   ]
  },
  {
   "cell_type": "code",
   "execution_count": 6,
   "id": "4b5c9fa2-f1ce-44ec-888d-cfed8b2e91a3",
   "metadata": {},
   "outputs": [],
   "source": [
    "def gradient_descent(X,y,w_in,b_in,cost_fun,gradient_fun,alpha,num):\n",
    "    J_history = []\n",
    "    w = copy.deepcopy(w_in)  #avoid modifying global w within function\n",
    "    b = b_in\n",
    "    for i in range(num):\n",
    "        # Calculate the gradient and update the parameters\n",
    "        dj_dw , dj_db = gradient_fun(X,y,w,b)\n",
    "\n",
    "        # Update Parameters using w, b, alpha and gradient\n",
    "        w = w - alpha * dj_dw\n",
    "        b = b - alpha * dj_db\n",
    "\n",
    "        # save the cost J \n",
    "        if i<100000:      # prevent resource exhaustion \n",
    "            J_history.append( cost_fun(X, y, w, b))\n",
    "         # Print cost every at intervals 10 times or as many iterations if < 10\n",
    "        if i% math.ceil(num / 10) == 0:\n",
    "            print(f\"Iteration {i:4d}: Cost {J_history[-1]:8.2f}   \")\n",
    "        \n",
    "    return w, b, J_history #return final w,b and J history for graphing"
   ]
  },
  {
   "cell_type": "code",
   "execution_count": 7,
   "id": "0d4c5c2e-68cb-4a0c-bb35-db428092554c",
   "metadata": {},
   "outputs": [
    {
     "name": "stdout",
     "output_type": "stream",
     "text": [
      "Iteration    0: Cost 95588.40   \n",
      "Iteration    1: Cost 128212.81   \n",
      "Iteration    2: Cost 172159.44   \n",
      "Iteration    3: Cost 231357.56   \n",
      "Iteration    4: Cost 311100.10   \n",
      "Iteration    5: Cost 418516.84   \n",
      "Iteration    6: Cost 563211.90   \n",
      "Iteration    7: Cost 758122.43   \n",
      "Iteration    8: Cost 1020675.34   \n",
      "Iteration    9: Cost 1374345.39   \n"
     ]
    },
    {
     "data": {
      "text/plain": [
       "array([-0.86831498, -0.00165867, -0.0009115 , -0.02720726])"
      ]
     },
     "execution_count": 7,
     "metadata": {},
     "output_type": "execute_result"
    }
   ],
   "source": [
    "#set alpha to 9.9e-7\n",
    "m,n = X_train.shape\n",
    "initial_w = np.zeros(n)\n",
    "initial_b = 0\n",
    "wfinal , bfinal , J_hist = gradient_descent(X_train, y_train,initial_w , initial_b ,compute_cost,compute_gradient, 9.9e-7 , 10)\n",
    "wfinal"
   ]
  },
  {
   "cell_type": "code",
   "execution_count": 8,
   "id": "7a8bd86d-9ff6-4bf9-9d63-39d65ebf7004",
   "metadata": {},
   "outputs": [
    {
     "name": "stdout",
     "output_type": "stream",
     "text": [
      "Iteration    0: Cost 66461.58   \n",
      "Iteration    1: Cost 61899.00   \n",
      "Iteration    2: Cost 57657.21   \n",
      "Iteration    3: Cost 53713.65   \n",
      "Iteration    4: Cost 50047.37   \n",
      "Iteration    5: Cost 46638.85   \n",
      "Iteration    6: Cost 43469.97   \n",
      "Iteration    7: Cost 40523.89   \n",
      "Iteration    8: Cost 37784.94   \n",
      "Iteration    9: Cost 35238.55   \n"
     ]
    },
    {
     "data": {
      "text/plain": [
       "array([ 7.73775314e-02,  8.27287625e-05, -1.06291972e-06, -4.19710549e-03])"
      ]
     },
     "execution_count": 8,
     "metadata": {},
     "output_type": "execute_result"
    }
   ],
   "source": [
    "#set alpha to 9e-7\n",
    "m,n = X_train.shape\n",
    "initial_w = np.zeros(n)\n",
    "initial_b = 0\n",
    "wfinal , bfinal , J_hist = gradient_descent(X_train, y_train,initial_w , initial_b ,compute_cost,compute_gradient, 9e-7 , 10)\n",
    "wfinal"
   ]
  },
  {
   "cell_type": "code",
   "execution_count": 9,
   "id": "87fceb83-9d94-4ce2-95ee-968e2a4473fa",
   "metadata": {},
   "outputs": [
    {
     "name": "stdout",
     "output_type": "stream",
     "text": [
      "Iteration    0: Cost 44231.27   \n",
      "Iteration    1: Cost 27646.12   \n",
      "Iteration    2: Cost 17510.22   \n",
      "Iteration    3: Cost 11315.74   \n",
      "Iteration    4: Cost  7530.02   \n",
      "Iteration    5: Cost  5216.39   \n",
      "Iteration    6: Cost  3802.42   \n",
      "Iteration    7: Cost  2938.26   \n",
      "Iteration    8: Cost  2410.13   \n",
      "Iteration    9: Cost  2087.34   \n"
     ]
    },
    {
     "data": {
      "text/plain": [
       "array([2.31283016e-01, 4.17834784e-04, 2.12498494e-04, 4.80830049e-03])"
      ]
     },
     "execution_count": 9,
     "metadata": {},
     "output_type": "execute_result"
    }
   ],
   "source": [
    "# alpha = 1e-7\n",
    "wfinal , bfinal , J_hist = gradient_descent(X_train, y_train,initial_w , initial_b ,compute_cost,compute_gradient, 1e-7 , 10)\n",
    "wfinal"
   ]
  },
  {
   "cell_type": "code",
   "execution_count": 10,
   "id": "03ad48da-ef6d-48a2-81d6-8c20e53430a1",
   "metadata": {},
   "outputs": [],
   "source": [
    "# feature scaling"
   ]
  },
  {
   "cell_type": "code",
   "execution_count": 11,
   "id": "52955913-7780-49cb-9a68-f2e2b9adff3e",
   "metadata": {},
   "outputs": [],
   "source": [
    "def zscore_normalize_features(X):\n",
    "    # finding mean \n",
    "    mu = np.mean(X,axis=0)\n",
    "    # find std dev of each column\n",
    "    sigma = np.std(X,axis=0)\n",
    "    # zscore\n",
    "    X_norm = (X - mu) / sigma\n",
    "\n",
    "    return X_norm , mu , sigma"
   ]
  },
  {
   "cell_type": "code",
   "execution_count": 17,
   "id": "19acd268-1592-4558-aeab-a72348a9fa29",
   "metadata": {},
   "outputs": [],
   "source": [
    "#check our work\n",
    "# !pip install scikit-learn"
   ]
  },
  {
   "cell_type": "code",
   "execution_count": 18,
   "id": "8caec04c-0db5-412e-9fdd-0a67b843bdd0",
   "metadata": {},
   "outputs": [
    {
     "data": {
      "text/plain": [
       "array([[-4.23632450e-01,  4.33808841e-01, -7.89272336e-01,\n",
       "         9.93726440e-01],\n",
       "       [ 1.28427160e+00,  4.33808841e-01,  1.26698980e+00,\n",
       "        -8.29542143e-01],\n",
       "       [ 7.44933479e-01,  4.33808841e-01,  1.26698980e+00,\n",
       "         1.40281572e-01],\n",
       "       [ 1.31342501e+00,  4.33808841e-01,  1.26698980e+00,\n",
       "        -9.07128040e-01],\n",
       "       [-2.53570880e-01, -1.10001528e+00, -7.89272336e-01,\n",
       "        -9.45920989e-01],\n",
       "       [-1.34682383e+00, -1.10001528e+00, -7.89272336e-01,\n",
       "         1.07131234e+00],\n",
       "       [ 1.01460254e+00,  4.33808841e-01, -7.89272336e-01,\n",
       "        -8.29542143e-01],\n",
       "       [-9.53252767e-01,  4.33808841e-01, -7.89272336e-01,\n",
       "         1.79074520e-01],\n",
       "       [ 4.31379699e+00,  1.96763296e+00,  1.26698980e+00,\n",
       "         1.88596426e+00],\n",
       "       [-1.53146210e+00, -1.10001528e+00, -7.89272336e-01,\n",
       "         1.61441362e+00],\n",
       "       [-5.30528294e-01, -1.10001528e+00,  1.26698980e+00,\n",
       "        -8.29542143e-01],\n",
       "       [ 3.36785712e-01, -1.10001528e+00, -7.89272336e-01,\n",
       "        -7.90749194e-01],\n",
       "       [ 2.82454353e-02,  4.33808841e-01, -7.89272336e-01,\n",
       "        -7.13163297e-01],\n",
       "       [-4.81939274e-01, -1.10001528e+00, -7.89272336e-01,\n",
       "        -9.07128040e-01],\n",
       "       [-7.92909002e-01, -1.10001528e+00, -7.89272336e-01,\n",
       "         9.93726440e-01],\n",
       "       [-1.38569504e+00, -2.63383939e+00, -7.89272336e-01,\n",
       "        -8.29542143e-01],\n",
       "       [ 6.40467087e-01,  4.33808841e-01,  1.26698980e+00,\n",
       "        -5.96784451e-01],\n",
       "       [ 8.49399872e-01,  4.33808841e-01,  1.26698980e+00,\n",
       "        -7.90749194e-01],\n",
       "       [-9.19240453e-01,  4.33808841e-01, -7.89272336e-01,\n",
       "         2.17867469e-01],\n",
       "       [ 5.67583557e-01, -1.10001528e+00, -7.89272336e-01,\n",
       "        -6.74370349e-01],\n",
       "       [-8.02626806e-01, -1.10001528e+00, -7.89272336e-01,\n",
       "        -1.31269068e-01],\n",
       "       [-2.48711978e-01,  4.33808841e-01, -7.89272336e-01,\n",
       "        -9.45920989e-01],\n",
       "       [ 4.24245948e-01, -4.16766351e+00, -7.89272336e-01,\n",
       "        -7.13163297e-01],\n",
       "       [-1.08444312e+00, -1.10001528e+00, -7.89272336e-01,\n",
       "         1.34286298e+00],\n",
       "       [-7.80761747e-01,  4.33808841e-01, -7.89272336e-01,\n",
       "        -5.36831713e-02],\n",
       "       [-1.00670069e+00, -1.10001528e+00, -7.89272336e-01,\n",
       "         4.89418109e-01],\n",
       "       [-1.24964579e+00,  4.33808841e-01, -7.89272336e-01,\n",
       "         6.44589903e-01],\n",
       "       [ 6.69620498e-01,  4.33808841e-01, -7.89272336e-01,\n",
       "        -9.84713937e-01],\n",
       "       [-8.39068571e-01, -1.10001528e+00, -7.89272336e-01,\n",
       "         2.39027259e+00],\n",
       "       [ 1.52147436e-03,  4.33808841e-01,  1.26698980e+00,\n",
       "        -7.51956246e-01],\n",
       "       [-6.17988530e-01,  4.33808841e-01, -7.89272336e-01,\n",
       "         5.28211057e-01],\n",
       "       [ 1.25511819e+00,  4.33808841e-01,  1.26698980e+00,\n",
       "        -1.02350689e+00],\n",
       "       [-4.91657078e-01, -1.10001528e+00,  1.26698980e+00,\n",
       "         1.38165593e+00],\n",
       "       [ 2.58402788e+00,  1.96763296e+00,  1.26698980e+00,\n",
       "        -8.68335091e-01],\n",
       "       [-5.30528294e-01, -1.10001528e+00, -7.89272336e-01,\n",
       "        -7.90749194e-01],\n",
       "       [ 1.02432034e+00,  4.33808841e-01,  1.26698980e+00,\n",
       "        -7.13163297e-01],\n",
       "       [ 1.05104430e+00,  4.33808841e-01,  1.26698980e+00,\n",
       "         7.22175800e-01],\n",
       "       [ 5.87019165e-01,  4.33808841e-01,  1.26698980e+00,\n",
       "        -7.51956246e-01],\n",
       "       [-7.83191198e-01, -1.10001528e+00,  1.26698980e+00,\n",
       "         2.27389374e+00],\n",
       "       [ 8.66406029e-01,  4.33808841e-01,  1.26698980e+00,\n",
       "        -4.02819708e-01],\n",
       "       [ 1.48591603e+00,  1.96763296e+00,  1.26698980e+00,\n",
       "         2.56660417e-01],\n",
       "       [ 8.88271088e-01,  1.96763296e+00,  1.26698980e+00,\n",
       "         2.66182323e+00],\n",
       "       [-8.39068571e-01, -1.10001528e+00, -7.89272336e-01,\n",
       "         2.39027259e+00],\n",
       "       [ 3.24638457e-01,  4.33808841e-01, -7.89272336e-01,\n",
       "        -8.68335091e-01],\n",
       "       [ 1.29884831e+00,  4.33808841e-01,  1.26698980e+00,\n",
       "        -8.68335091e-01],\n",
       "       [-4.72221470e-01, -1.10001528e+00,  1.26698980e+00,\n",
       "        -1.02350689e+00],\n",
       "       [ 4.80123321e-01,  4.33808841e-01, -7.89272336e-01,\n",
       "        -8.68335091e-01],\n",
       "       [-1.46343748e+00, -1.10001528e+00, -7.89272336e-01,\n",
       "         7.60968749e-01],\n",
       "       [-1.68540095e-01,  4.33808841e-01, -7.89272336e-01,\n",
       "        -6.74370349e-01],\n",
       "       [ 3.70798026e-01,  4.33808841e-01, -7.89272336e-01,\n",
       "        -9.45920989e-01],\n",
       "       [ 1.64294691e-01,  4.33808841e-01, -7.89272336e-01,\n",
       "         7.22175800e-01],\n",
       "       [ 2.12883711e-01, -1.10001528e+00, -7.89272336e-01,\n",
       "        -8.68335091e-01],\n",
       "       [-7.80761747e-01,  4.33808841e-01, -7.89272336e-01,\n",
       "        -4.41612657e-01],\n",
       "       [ 8.39682068e-01,  4.33808841e-01,  1.26698980e+00,\n",
       "        -5.57991503e-01],\n",
       "       [-5.11092686e-01, -1.10001528e+00, -7.89272336e-01,\n",
       "        -9.45920989e-01],\n",
       "       [ 1.25423475e-01,  4.33808841e-01,  1.26698980e+00,\n",
       "        -5.57991503e-01],\n",
       "       [ 8.49399872e-01,  4.33808841e-01,  1.26698980e+00,\n",
       "         1.76958541e+00],\n",
       "       [ 5.72442459e-01,  4.33808841e-01, -7.89272336e-01,\n",
       "        -7.51956246e-01],\n",
       "       [-9.45964414e-01,  4.33808841e-01, -7.89272336e-01,\n",
       "         8.38554646e-01],\n",
       "       [-7.24884374e-01, -1.10001528e+00,  1.26698980e+00,\n",
       "        -8.68335091e-01],\n",
       "       [-6.52000844e-01,  4.33808841e-01, -7.89272336e-01,\n",
       "         9.16140543e-01],\n",
       "       [-1.46343748e+00, -1.10001528e+00, -7.89272336e-01,\n",
       "         2.39027259e-02],\n",
       "       [-9.19240453e-01,  4.33808841e-01, -7.89272336e-01,\n",
       "        -5.19198554e-01],\n",
       "       [-6.40737026e-02,  4.33808841e-01, -7.89272336e-01,\n",
       "         9.93726440e-01],\n",
       "       [ 4.48540458e-01,  4.33808841e-01,  1.26698980e+00,\n",
       "        -3.64026760e-01],\n",
       "       [-4.94086529e-01,  4.33808841e-01, -7.89272336e-01,\n",
       "         9.54933492e-01],\n",
       "       [-8.39068571e-01, -1.10001528e+00, -7.89272336e-01,\n",
       "         2.39027259e+00],\n",
       "       [ 2.86827365e+00,  1.96763296e+00,  1.26698980e+00,\n",
       "        -6.35577400e-01],\n",
       "       [ 3.06748863e-02,  4.33808841e-01, -7.89272336e-01,\n",
       "         7.99761697e-01],\n",
       "       [ 1.63168309e+00,  4.33808841e-01,  1.26698980e+00,\n",
       "        -4.80405606e-01],\n",
       "       [ 9.02847794e-01,  1.96763296e+00,  1.26698980e+00,\n",
       "         4.11832212e-01],\n",
       "       [ 1.59435789e-01,  4.33808841e-01,  1.26698980e+00,\n",
       "        -8.68335091e-01],\n",
       "       [-9.19240453e-01,  4.33808841e-01, -7.89272336e-01,\n",
       "        -5.19198554e-01],\n",
       "       [ 3.06748863e-02,  4.33808841e-01, -7.89272336e-01,\n",
       "        -6.35577400e-01],\n",
       "       [-6.30135785e-01,  4.33808841e-01, -7.89272336e-01,\n",
       "         5.67004006e-01],\n",
       "       [ 3.12491202e-01,  4.33808841e-01,  1.26698980e+00,\n",
       "        -1.02350689e+00],\n",
       "       [ 1.37173184e+00,  4.33808841e-01,  1.26698980e+00,\n",
       "        -6.35577400e-01],\n",
       "       [-8.80369237e-01,  4.33808841e-01, -7.89272336e-01,\n",
       "         5.67004006e-01],\n",
       "       [-5.79117314e-01, -1.10001528e+00, -7.89272336e-01,\n",
       "         2.35147964e+00],\n",
       "       [-1.46675036e-01, -1.10001528e+00, -7.89272336e-01,\n",
       "        -8.29542143e-01],\n",
       "       [-1.11359653e+00,  4.33808841e-01, -7.89272336e-01,\n",
       "         4.89418109e-01],\n",
       "       [ 9.14111612e-02,  4.33808841e-01,  1.26698980e+00,\n",
       "        -8.68335091e-01],\n",
       "       [ 6.71166513e-02,  4.33808841e-01,  1.26698980e+00,\n",
       "        -5.19198554e-01],\n",
       "       [-5.11092686e-01, -1.10001528e+00, -7.89272336e-01,\n",
       "        -9.07128040e-01],\n",
       "       [ 3.27067908e-01,  4.33808841e-01,  1.26698980e+00,\n",
       "        -8.68335091e-01],\n",
       "       [-1.30309371e+00,  4.33808841e-01, -7.89272336e-01,\n",
       "         4.11832212e-01],\n",
       "       [ 1.48591603e+00,  1.96763296e+00,  1.26698980e+00,\n",
       "         2.56660417e-01],\n",
       "       [-9.19240453e-01,  4.33808841e-01, -7.89272336e-01,\n",
       "         9.16140543e-01],\n",
       "       [ 4.80123321e-01,  4.33808841e-01, -7.89272336e-01,\n",
       "        -8.68335091e-01],\n",
       "       [-1.49502034e+00, -1.10001528e+00, -7.89272336e-01,\n",
       "         1.61441362e+00],\n",
       "       [ 2.82454353e-02,  4.33808841e-01,  1.26698980e+00,\n",
       "        -6.74370349e-01],\n",
       "       [ 5.77301361e-01,  4.33808841e-01, -7.89272336e-01,\n",
       "         8.77347595e-01],\n",
       "       [ 2.97914496e-01,  4.33808841e-01, -7.89272336e-01,\n",
       "        -8.68335091e-01],\n",
       "       [-1.14274995e+00,  4.33808841e-01, -7.89272336e-01,\n",
       "         5.67004006e-01],\n",
       "       [-4.72221470e-01, -1.10001528e+00,  1.26698980e+00,\n",
       "        -1.02350689e+00],\n",
       "       [ 3.31043373e-02, -1.10001528e+00, -7.89272336e-01,\n",
       "         1.79074520e-01],\n",
       "       [ 5.87019165e-01,  4.33808841e-01,  1.26698980e+00,\n",
       "        -7.51956246e-01],\n",
       "       [-5.01374882e-01,  4.33808841e-01, -7.89272336e-01,\n",
       "        -7.13163297e-01],\n",
       "       [-8.94945943e-01, -1.10001528e+00, -7.89272336e-01,\n",
       "         1.03251939e+00]])"
      ]
     },
     "execution_count": 18,
     "metadata": {},
     "output_type": "execute_result"
    }
   ],
   "source": [
    "from sklearn.preprocessing import scale\n",
    "scale(X_train, axis=0, with_mean=True, with_std=True, copy=True)"
   ]
  },
  {
   "cell_type": "code",
   "execution_count": 20,
   "id": "b369d76c-4772-4e47-b335-bf9e229a7567",
   "metadata": {},
   "outputs": [
    {
     "name": "stdout",
     "output_type": "stream",
     "text": [
      "X_mu = [1.41837374e+03 2.71717172e+00 1.38383838e+00 3.83838384e+01], \n",
      "X_sigma = [411.61562893   0.65196523   0.48631932  25.77788069]\n",
      "Peak to Peak range by column in Raw        X:[2.406e+03 4.000e+00 1.000e+00 9.500e+01]\n",
      "Peak to Peak range by column in Normalized X:[5.8452591  6.13529646 2.05626214 3.68533012]\n"
     ]
    }
   ],
   "source": [
    "X_norm , X_mu , X_sigma = zscore_normalize_features(X_train)\n",
    "print(f\"X_mu = {X_mu}, \\nX_sigma = {X_sigma}\")\n",
    "print(f\"Peak to Peak range by column in Raw        X:{np.ptp(X_train,axis=0)}\")   \n",
    "print(f\"Peak to Peak range by column in Normalized X:{np.ptp(X_norm,axis=0)}\")"
   ]
  },
  {
   "cell_type": "code",
   "execution_count": 22,
   "id": "75fc2ca2-b831-4e4a-aeb0-6015197cfcc1",
   "metadata": {},
   "outputs": [
    {
     "name": "stdout",
     "output_type": "stream",
     "text": [
      "Iteration    0: Cost 57617.03   \n",
      "Iteration  100: Cost   221.09   \n",
      "Iteration  200: Cost   219.21   \n",
      "Iteration  300: Cost   219.21   \n",
      "Iteration  400: Cost   219.21   \n",
      "Iteration  500: Cost   219.21   \n",
      "Iteration  600: Cost   219.21   \n",
      "Iteration  700: Cost   219.21   \n",
      "Iteration  800: Cost   219.21   \n",
      "Iteration  900: Cost   219.21   \n"
     ]
    }
   ],
   "source": [
    "w_norm, b_norm, hist = gradient_descent(X_norm, y_train,initial_w , initial_b ,compute_cost,compute_gradient,1.0e-1,1000)"
   ]
  },
  {
   "cell_type": "code",
   "execution_count": 30,
   "id": "7ef2fc4f-912a-4aec-a193-b0216447cf93",
   "metadata": {},
   "outputs": [],
   "source": [
    "# prediction using normalized features\n",
    "m = X_norm.shape[0]\n",
    "yp = np.zeros(m)\n",
    "for i in range(m):\n",
    "    yp[i] = np.dot(X_norm[i] , w_norm) + b_norm"
   ]
  },
  {
   "cell_type": "code",
   "execution_count": 31,
   "id": "cba62ce2-419f-45db-81b0-5b7047ec4f9b",
   "metadata": {},
   "outputs": [
    {
     "data": {
      "image/png": "[encoded data removed]",
      "text/plain": [
       "<Figure size 1200x300 with 4 Axes>"
      ]
     },
     "metadata": {},
     "output_type": "display_data"
    }
   ],
   "source": [
    "# plot predictions and targets versus original features    \n",
    "fig,ax=plt.subplots(1,4,figsize=(12, 3),sharey=True)\n",
    "for i in range(len(ax)):\n",
    "    ax[i].scatter(X_train[:,i],y_train, label = 'target')\n",
    "    ax[i].set_xlabel(X_features[i])\n",
    "    ax[i].scatter(X_train[:,i],yp, label = 'predict')\n",
    "ax[0].set_ylabel(\"Price\"); ax[0].legend();\n",
    "fig.suptitle(\"target versus prediction using z-score normalized model\")\n",
    "plt.show()"
   ]
  },
  {
   "cell_type": "markdown",
   "id": "5ba62fd8-87c1-40d6-a6a9-a81a8951bcd3",
   "metadata": {},
   "source": [
    "Prediction The point of generating our model is to use it to predict housing prices that are not in the data set. Let's predict the price of a house with 1200 sqft, 3 bedrooms, 1 floor, 40 years old. Recall, that you must normalize the data with the mean and standard deviation derived when the training data was normalized."
   ]
  },
  {
   "cell_type": "code",
   "execution_count": 34,
   "id": "e2ebed6d-5d20-471c-a826-9f202a2d1d3e",
   "metadata": {},
   "outputs": [
    {
     "name": "stdout",
     "output_type": "stream",
     "text": [
      "[-0.53052829  0.43380884 -0.78927234  0.06269567]\n",
      " predicted price of a house with 1200 sqft, 3 bedrooms, 1 floor, 40 years old = $318709\n"
     ]
    }
   ],
   "source": [
    "# prediction out of the data set\n",
    "X_house = np.array([1200,3,1,40])\n",
    "X_house_norm = (X_house - X_mu) / X_sigma\n",
    "print(X_house_norm)\n",
    "X_house_predict = np.dot(X_house_norm , w_norm ) + b_norm\n",
    "print(f\" predicted price of a house with 1200 sqft, 3 bedrooms, 1 floor, 40 years old = ${X_house_predict*1000:0.0f}\")"
   ]
  },
  {
   "cell_type": "code",
   "execution_count": null,
   "id": "480be971-bb4e-4b7d-8022-668a29e10426",
   "metadata": {},
   "outputs": [],
   "source": []
  }
 ],
 "metadata": {
  "kernelspec": {
   "display_name": "Python 3 (ipykernel)",
   "language": "python",
   "name": "python3"
  },
  "language_info": {
   "codemirror_mode": {
    "name": "ipython",
    "version": 3
   },
   "file_extension": ".py",
   "mimetype": "text/x-python",
   "name": "python",
   "nbconvert_exporter": "python",
   "pygments_lexer": "ipython3",
   "version": "3.13.2"
  }
 },
 "nbformat": 4,
 "nbformat_minor": 5
}
