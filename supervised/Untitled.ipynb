{
 "cells": [
  {
   "cell_type": "code",
   "execution_count": null,
   "id": "061843a7-32a0-41ff-a25b-888894190757",
   "metadata": {},
   "outputs": [],
   "source": []
  }
 ],
 "metadata": {
  "kernelspec": {
   "display_name": "",
   "name": ""
  },
  "language_info": {
   "name": ""
  }
 },
 "nbformat": 4,
 "nbformat_minor": 5
}
